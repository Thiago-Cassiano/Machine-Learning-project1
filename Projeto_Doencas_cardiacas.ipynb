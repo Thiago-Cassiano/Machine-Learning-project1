{
  "cells": [
    {
      "cell_type": "markdown",
      "metadata": {
        "id": "view-in-github",
        "colab_type": "text"
      },
      "source": [
        "<a href=\"https://colab.research.google.com/github/Thiago-Cassiano/Machine-Learning-project1/blob/main/Projeto_Doencas_cardiacas.ipynb\" target=\"_parent\"><img src=\"https://colab.research.google.com/assets/colab-badge.svg\" alt=\"Open In Colab\"/></a>"
      ]
    },
    {
      "cell_type": "markdown",
      "metadata": {
        "id": "hiLLG752To10"
      },
      "source": [
        "# Projeto - Prever doenças cardiacas em um paciente usando machine learning\n",
        "\n",
        "Esse notebook utiliza diversos métodos de machine learning baseados em Python para prever se um individuo tem doenças cardíacas baseada em atributos médicos\n",
        "\n",
        "Passos:\n",
        "\n",
        "* Análise exploratória de dados (EDA) - \n",
        "processo de analisar um conjunto de dados e descobrir mais sobre ele.\n",
        "* Treinamento do modelo - \n",
        "Criação de modelos para aprender a prever uma variável de destino com base em outras variáveis.\n",
        "* Avaliação do modelo - \n",
        "Avaliar as previsões dos modelos usando métricas de avaliação específicas do problema.\n",
        "* Comparação de modelos - \n",
        "Comparar vários modelos diferentes para encontrar o melhor.\n",
        "* Ajuste fino do modelo - \n",
        "Depois de encontrar um bom modelo, como podemos melhorá-lo?\n",
        "* Validação cruzada - \n",
        "Se construirmos um bom modelo, podemos ter certeza de que funcionará em dados não vistos?\n"
      ],
      "id": "hiLLG752To10"
    },
    {
      "cell_type": "markdown",
      "metadata": {
        "id": "MA4UQEDlYDv3"
      },
      "source": [
        "# 1. Definição do Problema\n",
        "Em nosso caso, o problema que exploraremos é a classificação binária (uma amostra só pode ser uma de duas coisas).\n",
        "\n",
        "Isso ocorre porque usaremos vários recursos diferentes (informações) sobre uma pessoa para prever se ela tem doenças cardíacas ou não.\n",
        "\n",
        "Em um comunicado,\n",
        "\n",
        "Dados os parâmetros clínicos de um paciente, podemos prever se ele tem ou não doença cardíaca?\n",
        "\n",
        "# 2. Dados\n",
        "Mergulhar nos dados nos quais sua definição de problema se baseia. Isso pode envolver sourcing, definir parâmetros diferentes, conversar com especialistas sobre o assunto e descobrir o que você deve esperar.\n",
        "\n",
        "Os dados originais vieram do banco de dados de Cleveland do UCI Machine Learning Repository.\n",
        "\n",
        "O banco de dados original contém 76 atributos, mas aqui apenas 14 atributos serão usados. Atributos (também chamados de recursos) são as variáveis ​​que usaremos para prever nossa variável de destino.\n",
        "\n",
        "Atributos e recursos também são chamados de variáveis ​​independentes e uma variável de destino pode ser chamada de variável dependente.\n",
        "\n",
        "Usamos as variáveis ​​independentes para prever nossa variável dependente.\n",
        "\n",
        "Ou, em nosso caso, as variáveis ​​independentes são atributos médicos diferentes de um paciente e a variável dependente é se ele tem ou não doença cardíaca.\n",
        "\n",
        "# 3. Avaliação\n",
        "A métrica de avaliação é algo que você pode definir no início de um projeto.\n",
        "Como o aprendizado de máquina é muito experimental, você pode dizer algo como:\n",
        "\n",
        "Se pudermos atingir 95% de precisão na previsão se um paciente tem ou não doença cardíaca durante a prova de conceito, continuaremos com este projeto.\n",
        "\n",
        "# 4. Recursos\n",
        "Os recursos são partes diferentes dos dados.\n",
        "\n",
        "Uma das maneiras mais comuns de fazer isso é criar um dicionário de dados.\n",
        "\n",
        "A seguir estão os recursos que usaremos para prever nossa variável-alvo (doença cardíaca ou nenhuma doença cardíaca).\n",
        "\n",
        "1. idade - idade em anos\n",
        "2. sexo - (1 = masculino; 0 = feminino)\n",
        "3. cp - tipo de dor no peito\n",
        "    * 0: Angina típica: dor no peito relacionada à diminuição do suprimento de sangue ao coração\n",
        "    * 1: Angina atípica: dor no peito não relacionada ao coração\n",
        "    * 2: Dor não anginosa: tipicamente espasmos esofágicos (não relacionados ao coração)\n",
        "    * 3: Assintomático: dor no peito sem sinais de doença\n",
        "4. trestbps - pressão arterial em repouso (em mm Hg na admissão ao hospital)\n",
        "    * qualquer coisa acima de 130-140 é normalmente motivo de preocupação\n",
        "5. col - colesterol sérico em mg / dl\n",
        "    * soro = LDL + HDL + .2 * triglicerídeos\n",
        "    * acima de 200 é motivo de preocupação\n",
        "6. fbs - (açúcar no sangue em jejum> 120 mg / dl) (1 = verdadeiro; 0 = falso)\n",
        "    * '> 126' mg / dL sinaliza diabetes\n",
        "7. restecg - resultados eletrocardiográficos em repouso\n",
        "    * 0: Nada a notar\n",
        "    * 1: Anormalidade da onda ST-T\n",
        "        - pode variar de sintomas leves a problemas graves\n",
        "        - sinaliza batimento cardíaco anormal\n",
        "    * 2: Hipertrofia ventricular esquerda possível ou definitiva\n",
        "        - Câmara de bombeamento principal do coração ampliado\n",
        "8. thalach - frequência cardíaca máxima alcançada\n",
        "9. exang - angina induzida por exercício (1 = sim; 0 = não)\n",
        "10. oldpeak - depressão de ST induzida por exercícios em relação ao repouso\n",
        "    * olha para o estresse do coração durante o exercício\n",
        "    * coração doentio irá estressar mais\n",
        "11. slope - a inclinação do segmento ST de pico do exercício\n",
        "    * 0: Upsloping: melhor frequência cardíaca com exercício (incomum)\n",
        "    * 1: Flatsloping: mudança mínima (coração saudável típico)\n",
        "    * 2: Downslopins: sinais de coração doentio\n",
        "12. ca - número de vasos principais (0-3) coloridos por fluorosopia\n",
        "    * vaso colorido significa que o médico pode ver o sangue passando\n",
        "    * quanto mais circulação sanguínea, melhor (sem coágulos)\n",
        "13. thal - resultado de estresse com tálio\n",
        "    * 1,3: normal\n",
        "    * 6: defeito corrigido: costumava ser defeito, mas agora está bem\n",
        "    * 7: defeito reversível: nenhum movimento sanguíneo adequado durante o exercício\n",
        "14. target - tem doença ou não (1 = sim, 0 = não) (= o atributo previsto)\n",
        "\n",
        "** Nota: ** Nenhuma informação de identificação pessoal (PPI) pode ser encontrada no conjunto de dados."
      ],
      "id": "MA4UQEDlYDv3"
    },
    {
      "cell_type": "code",
      "execution_count": null,
      "metadata": {
        "id": "o26voxbHTkpR"
      },
      "outputs": [],
      "source": [
        "# Preparando as ferramentas\n",
        "\n",
        "# Bibliotecas\n",
        "import numpy as np\n",
        "import pandas as pd\n",
        "import matplotlib.pyplot as plt\n",
        "%matplotlib inline\n",
        "import seaborn as sns\n",
        "\n",
        "# Modelos\n",
        "from sklearn.linear_model import LogisticRegression\n",
        "from sklearn.neighbors import KNeighborsClassifier\n",
        "from sklearn.ensemble import RandomForestClassifier\n",
        "\n",
        "# Avaliação de modelos\n",
        "from sklearn.model_selection import train_test_split, cross_val_score, RandomizedSearchCV, GridSearchCV\n",
        "from sklearn.metrics import confusion_matrix, classification_report, plot_roc_curve\n",
        "from sklearn.metrics import precision_score, recall_score, f1_score"
      ],
      "id": "o26voxbHTkpR"
    },
    {
      "cell_type": "code",
      "execution_count": null,
      "metadata": {
        "colab": {
          "base_uri": "https://localhost:8080/",
          "height": 419
        },
        "id": "9vL8F1fwb_iy",
        "outputId": "fb1397a0-1789-42fa-b48f-69c4a2b86134"
      },
      "outputs": [
        {
          "data": {
            "text/html": [
              "<div>\n",
              "<style scoped>\n",
              "    .dataframe tbody tr th:only-of-type {\n",
              "        vertical-align: middle;\n",
              "    }\n",
              "\n",
              "    .dataframe tbody tr th {\n",
              "        vertical-align: top;\n",
              "    }\n",
              "\n",
              "    .dataframe thead th {\n",
              "        text-align: right;\n",
              "    }\n",
              "</style>\n",
              "<table border=\"1\" class=\"dataframe\">\n",
              "  <thead>\n",
              "    <tr style=\"text-align: right;\">\n",
              "      <th></th>\n",
              "      <th>age</th>\n",
              "      <th>sex</th>\n",
              "      <th>cp</th>\n",
              "      <th>trestbps</th>\n",
              "      <th>chol</th>\n",
              "      <th>fbs</th>\n",
              "      <th>restecg</th>\n",
              "      <th>thalach</th>\n",
              "      <th>exang</th>\n",
              "      <th>oldpeak</th>\n",
              "      <th>slope</th>\n",
              "      <th>ca</th>\n",
              "      <th>thal</th>\n",
              "      <th>target</th>\n",
              "    </tr>\n",
              "  </thead>\n",
              "  <tbody>\n",
              "    <tr>\n",
              "      <th>0</th>\n",
              "      <td>63</td>\n",
              "      <td>1</td>\n",
              "      <td>3</td>\n",
              "      <td>145</td>\n",
              "      <td>233</td>\n",
              "      <td>1</td>\n",
              "      <td>0</td>\n",
              "      <td>150</td>\n",
              "      <td>0</td>\n",
              "      <td>2.3</td>\n",
              "      <td>0</td>\n",
              "      <td>0</td>\n",
              "      <td>1</td>\n",
              "      <td>1</td>\n",
              "    </tr>\n",
              "    <tr>\n",
              "      <th>1</th>\n",
              "      <td>37</td>\n",
              "      <td>1</td>\n",
              "      <td>2</td>\n",
              "      <td>130</td>\n",
              "      <td>250</td>\n",
              "      <td>0</td>\n",
              "      <td>1</td>\n",
              "      <td>187</td>\n",
              "      <td>0</td>\n",
              "      <td>3.5</td>\n",
              "      <td>0</td>\n",
              "      <td>0</td>\n",
              "      <td>2</td>\n",
              "      <td>1</td>\n",
              "    </tr>\n",
              "    <tr>\n",
              "      <th>2</th>\n",
              "      <td>41</td>\n",
              "      <td>0</td>\n",
              "      <td>1</td>\n",
              "      <td>130</td>\n",
              "      <td>204</td>\n",
              "      <td>0</td>\n",
              "      <td>0</td>\n",
              "      <td>172</td>\n",
              "      <td>0</td>\n",
              "      <td>1.4</td>\n",
              "      <td>2</td>\n",
              "      <td>0</td>\n",
              "      <td>2</td>\n",
              "      <td>1</td>\n",
              "    </tr>\n",
              "    <tr>\n",
              "      <th>3</th>\n",
              "      <td>56</td>\n",
              "      <td>1</td>\n",
              "      <td>1</td>\n",
              "      <td>120</td>\n",
              "      <td>236</td>\n",
              "      <td>0</td>\n",
              "      <td>1</td>\n",
              "      <td>178</td>\n",
              "      <td>0</td>\n",
              "      <td>0.8</td>\n",
              "      <td>2</td>\n",
              "      <td>0</td>\n",
              "      <td>2</td>\n",
              "      <td>1</td>\n",
              "    </tr>\n",
              "    <tr>\n",
              "      <th>4</th>\n",
              "      <td>57</td>\n",
              "      <td>0</td>\n",
              "      <td>0</td>\n",
              "      <td>120</td>\n",
              "      <td>354</td>\n",
              "      <td>0</td>\n",
              "      <td>1</td>\n",
              "      <td>163</td>\n",
              "      <td>1</td>\n",
              "      <td>0.6</td>\n",
              "      <td>2</td>\n",
              "      <td>0</td>\n",
              "      <td>2</td>\n",
              "      <td>1</td>\n",
              "    </tr>\n",
              "    <tr>\n",
              "      <th>...</th>\n",
              "      <td>...</td>\n",
              "      <td>...</td>\n",
              "      <td>...</td>\n",
              "      <td>...</td>\n",
              "      <td>...</td>\n",
              "      <td>...</td>\n",
              "      <td>...</td>\n",
              "      <td>...</td>\n",
              "      <td>...</td>\n",
              "      <td>...</td>\n",
              "      <td>...</td>\n",
              "      <td>...</td>\n",
              "      <td>...</td>\n",
              "      <td>...</td>\n",
              "    </tr>\n",
              "    <tr>\n",
              "      <th>298</th>\n",
              "      <td>57</td>\n",
              "      <td>0</td>\n",
              "      <td>0</td>\n",
              "      <td>140</td>\n",
              "      <td>241</td>\n",
              "      <td>0</td>\n",
              "      <td>1</td>\n",
              "      <td>123</td>\n",
              "      <td>1</td>\n",
              "      <td>0.2</td>\n",
              "      <td>1</td>\n",
              "      <td>0</td>\n",
              "      <td>3</td>\n",
              "      <td>0</td>\n",
              "    </tr>\n",
              "    <tr>\n",
              "      <th>299</th>\n",
              "      <td>45</td>\n",
              "      <td>1</td>\n",
              "      <td>3</td>\n",
              "      <td>110</td>\n",
              "      <td>264</td>\n",
              "      <td>0</td>\n",
              "      <td>1</td>\n",
              "      <td>132</td>\n",
              "      <td>0</td>\n",
              "      <td>1.2</td>\n",
              "      <td>1</td>\n",
              "      <td>0</td>\n",
              "      <td>3</td>\n",
              "      <td>0</td>\n",
              "    </tr>\n",
              "    <tr>\n",
              "      <th>300</th>\n",
              "      <td>68</td>\n",
              "      <td>1</td>\n",
              "      <td>0</td>\n",
              "      <td>144</td>\n",
              "      <td>193</td>\n",
              "      <td>1</td>\n",
              "      <td>1</td>\n",
              "      <td>141</td>\n",
              "      <td>0</td>\n",
              "      <td>3.4</td>\n",
              "      <td>1</td>\n",
              "      <td>2</td>\n",
              "      <td>3</td>\n",
              "      <td>0</td>\n",
              "    </tr>\n",
              "    <tr>\n",
              "      <th>301</th>\n",
              "      <td>57</td>\n",
              "      <td>1</td>\n",
              "      <td>0</td>\n",
              "      <td>130</td>\n",
              "      <td>131</td>\n",
              "      <td>0</td>\n",
              "      <td>1</td>\n",
              "      <td>115</td>\n",
              "      <td>1</td>\n",
              "      <td>1.2</td>\n",
              "      <td>1</td>\n",
              "      <td>1</td>\n",
              "      <td>3</td>\n",
              "      <td>0</td>\n",
              "    </tr>\n",
              "    <tr>\n",
              "      <th>302</th>\n",
              "      <td>57</td>\n",
              "      <td>0</td>\n",
              "      <td>1</td>\n",
              "      <td>130</td>\n",
              "      <td>236</td>\n",
              "      <td>0</td>\n",
              "      <td>0</td>\n",
              "      <td>174</td>\n",
              "      <td>0</td>\n",
              "      <td>0.0</td>\n",
              "      <td>1</td>\n",
              "      <td>1</td>\n",
              "      <td>2</td>\n",
              "      <td>0</td>\n",
              "    </tr>\n",
              "  </tbody>\n",
              "</table>\n",
              "<p>303 rows × 14 columns</p>\n",
              "</div>"
            ],
            "text/plain": [
              "     age  sex  cp  trestbps  chol  fbs  ...  exang  oldpeak  slope  ca  thal  target\n",
              "0     63    1   3       145   233    1  ...      0      2.3      0   0     1       1\n",
              "1     37    1   2       130   250    0  ...      0      3.5      0   0     2       1\n",
              "2     41    0   1       130   204    0  ...      0      1.4      2   0     2       1\n",
              "3     56    1   1       120   236    0  ...      0      0.8      2   0     2       1\n",
              "4     57    0   0       120   354    0  ...      1      0.6      2   0     2       1\n",
              "..   ...  ...  ..       ...   ...  ...  ...    ...      ...    ...  ..   ...     ...\n",
              "298   57    0   0       140   241    0  ...      1      0.2      1   0     3       0\n",
              "299   45    1   3       110   264    0  ...      0      1.2      1   0     3       0\n",
              "300   68    1   0       144   193    1  ...      0      3.4      1   2     3       0\n",
              "301   57    1   0       130   131    0  ...      1      1.2      1   1     3       0\n",
              "302   57    0   1       130   236    0  ...      0      0.0      1   1     2       0\n",
              "\n",
              "[303 rows x 14 columns]"
            ]
          },
          "execution_count": 2,
          "metadata": {},
          "output_type": "execute_result"
        }
      ],
      "source": [
        "# Carregando dados\n",
        "df = pd.read_csv('https://raw.githubusercontent.com/Thiago-Cassiano/Machine-Learning-project1/main/project/data/heart-disease.csv')\n",
        "df"
      ],
      "id": "9vL8F1fwb_iy"
    },
    {
      "cell_type": "markdown",
      "metadata": {
        "id": "FESQjFk4hgDS"
      },
      "source": [
        "## Análise exploratória de dados\n",
        "\n",
        "Depois de importar um conjunto de dados, a próxima etapa é explorar.\n",
        "\n",
        "1. Que pergunta (s) você está tentando resolver (ou provar que está errado)?\n",
        "2. Que tipo de dados você possui e como trata os diferentes tipos?\n",
        "3. O que está faltando nos dados e como você lida com isso?\n",
        "4. Onde estão os outliers e por que você deve se preocupar com eles?\n",
        "5. Como você pode adicionar, alterar ou remover recursos para obter mais de seus dados?"
      ],
      "id": "FESQjFk4hgDS"
    },
    {
      "cell_type": "code",
      "execution_count": null,
      "metadata": {
        "colab": {
          "base_uri": "https://localhost:8080/"
        },
        "id": "Q6iHW7vddrzb",
        "outputId": "cea7cbde-9468-476a-c7c3-cd2650acee47"
      },
      "outputs": [
        {
          "data": {
            "text/plain": [
              "1    0.544554\n",
              "0    0.455446\n",
              "Name: target, dtype: float64"
            ]
          },
          "execution_count": 3,
          "metadata": {},
          "output_type": "execute_result"
        }
      ],
      "source": [
        "# Quantos valores positivos e negativos há?\n",
        "\n",
        "df.iloc[:,-1].value_counts(normalize=True)"
      ],
      "id": "Q6iHW7vddrzb"
    },
    {
      "cell_type": "code",
      "execution_count": null,
      "metadata": {
        "colab": {
          "base_uri": "https://localhost:8080/",
          "height": 262
        },
        "id": "KBALJgorfzq6",
        "outputId": "f5e1bdbb-3680-410a-bb20-7094cd98e492"
      },
      "outputs": [
        {
          "data": {
            "image/png": "[encoded data removed]",
            "text/plain": [
              "<Figure size 432x288 with 1 Axes>"
            ]
          },
          "metadata": {},
          "output_type": "display_data"
        }
      ],
      "source": [
        "# Visualização dos valores \"Alvo\"\n",
        "\n",
        "df.iloc[:,-1].value_counts().plot(kind='bar', color=['salmon', 'lightblue']);"
      ],
      "id": "KBALJgorfzq6"
    },
    {
      "cell_type": "code",
      "execution_count": null,
      "metadata": {
        "colab": {
          "base_uri": "https://localhost:8080/"
        },
        "id": "618n5D6kgULP",
        "outputId": "bfcfef42-b1fb-4a22-f673-c10a22994015"
      },
      "outputs": [
        {
          "name": "stdout",
          "output_type": "stream",
          "text": [
            "<class 'pandas.core.frame.DataFrame'>\n",
            "RangeIndex: 303 entries, 0 to 302\n",
            "Data columns (total 14 columns):\n",
            " #   Column    Non-Null Count  Dtype  \n",
            "---  ------    --------------  -----  \n",
            " 0   age       303 non-null    int64  \n",
            " 1   sex       303 non-null    int64  \n",
            " 2   cp        303 non-null    int64  \n",
            " 3   trestbps  303 non-null    int64  \n",
            " 4   chol      303 non-null    int64  \n",
            " 5   fbs       303 non-null    int64  \n",
            " 6   restecg   303 non-null    int64  \n",
            " 7   thalach   303 non-null    int64  \n",
            " 8   exang     303 non-null    int64  \n",
            " 9   oldpeak   303 non-null    float64\n",
            " 10  slope     303 non-null    int64  \n",
            " 11  ca        303 non-null    int64  \n",
            " 12  thal      303 non-null    int64  \n",
            " 13  target    303 non-null    int64  \n",
            "dtypes: float64(1), int64(13)\n",
            "memory usage: 33.3 KB\n"
          ]
        }
      ],
      "source": [
        "# Verificando o número de valores faltantes, neste caso não há\n",
        "\n",
        "df.info()"
      ],
      "id": "618n5D6kgULP"
    },
    {
      "cell_type": "code",
      "execution_count": null,
      "metadata": {
        "colab": {
          "base_uri": "https://localhost:8080/",
          "height": 317
        },
        "id": "ro09Dcx3g21g",
        "outputId": "2522d73c-da2a-44fc-8147-d9ca88e7dcfa"
      },
      "outputs": [
        {
          "data": {
            "text/html": [
              "<div>\n",
              "<style scoped>\n",
              "    .dataframe tbody tr th:only-of-type {\n",
              "        vertical-align: middle;\n",
              "    }\n",
              "\n",
              "    .dataframe tbody tr th {\n",
              "        vertical-align: top;\n",
              "    }\n",
              "\n",
              "    .dataframe thead th {\n",
              "        text-align: right;\n",
              "    }\n",
              "</style>\n",
              "<table border=\"1\" class=\"dataframe\">\n",
              "  <thead>\n",
              "    <tr style=\"text-align: right;\">\n",
              "      <th></th>\n",
              "      <th>age</th>\n",
              "      <th>sex</th>\n",
              "      <th>cp</th>\n",
              "      <th>trestbps</th>\n",
              "      <th>chol</th>\n",
              "      <th>fbs</th>\n",
              "      <th>restecg</th>\n",
              "      <th>thalach</th>\n",
              "      <th>exang</th>\n",
              "      <th>oldpeak</th>\n",
              "      <th>slope</th>\n",
              "      <th>ca</th>\n",
              "      <th>thal</th>\n",
              "      <th>target</th>\n",
              "    </tr>\n",
              "  </thead>\n",
              "  <tbody>\n",
              "    <tr>\n",
              "      <th>count</th>\n",
              "      <td>303.000000</td>\n",
              "      <td>303.000000</td>\n",
              "      <td>303.000000</td>\n",
              "      <td>303.000000</td>\n",
              "      <td>303.000000</td>\n",
              "      <td>303.000000</td>\n",
              "      <td>303.000000</td>\n",
              "      <td>303.000000</td>\n",
              "      <td>303.000000</td>\n",
              "      <td>303.000000</td>\n",
              "      <td>303.000000</td>\n",
              "      <td>303.000000</td>\n",
              "      <td>303.000000</td>\n",
              "      <td>303.000000</td>\n",
              "    </tr>\n",
              "    <tr>\n",
              "      <th>mean</th>\n",
              "      <td>54.366337</td>\n",
              "      <td>0.683168</td>\n",
              "      <td>0.966997</td>\n",
              "      <td>131.623762</td>\n",
              "      <td>246.264026</td>\n",
              "      <td>0.148515</td>\n",
              "      <td>0.528053</td>\n",
              "      <td>149.646865</td>\n",
              "      <td>0.326733</td>\n",
              "      <td>1.039604</td>\n",
              "      <td>1.399340</td>\n",
              "      <td>0.729373</td>\n",
              "      <td>2.313531</td>\n",
              "      <td>0.544554</td>\n",
              "    </tr>\n",
              "    <tr>\n",
              "      <th>std</th>\n",
              "      <td>9.082101</td>\n",
              "      <td>0.466011</td>\n",
              "      <td>1.032052</td>\n",
              "      <td>17.538143</td>\n",
              "      <td>51.830751</td>\n",
              "      <td>0.356198</td>\n",
              "      <td>0.525860</td>\n",
              "      <td>22.905161</td>\n",
              "      <td>0.469794</td>\n",
              "      <td>1.161075</td>\n",
              "      <td>0.616226</td>\n",
              "      <td>1.022606</td>\n",
              "      <td>0.612277</td>\n",
              "      <td>0.498835</td>\n",
              "    </tr>\n",
              "    <tr>\n",
              "      <th>min</th>\n",
              "      <td>29.000000</td>\n",
              "      <td>0.000000</td>\n",
              "      <td>0.000000</td>\n",
              "      <td>94.000000</td>\n",
              "      <td>126.000000</td>\n",
              "      <td>0.000000</td>\n",
              "      <td>0.000000</td>\n",
              "      <td>71.000000</td>\n",
              "      <td>0.000000</td>\n",
              "      <td>0.000000</td>\n",
              "      <td>0.000000</td>\n",
              "      <td>0.000000</td>\n",
              "      <td>0.000000</td>\n",
              "      <td>0.000000</td>\n",
              "    </tr>\n",
              "    <tr>\n",
              "      <th>25%</th>\n",
              "      <td>47.500000</td>\n",
              "      <td>0.000000</td>\n",
              "      <td>0.000000</td>\n",
              "      <td>120.000000</td>\n",
              "      <td>211.000000</td>\n",
              "      <td>0.000000</td>\n",
              "      <td>0.000000</td>\n",
              "      <td>133.500000</td>\n",
              "      <td>0.000000</td>\n",
              "      <td>0.000000</td>\n",
              "      <td>1.000000</td>\n",
              "      <td>0.000000</td>\n",
              "      <td>2.000000</td>\n",
              "      <td>0.000000</td>\n",
              "    </tr>\n",
              "    <tr>\n",
              "      <th>50%</th>\n",
              "      <td>55.000000</td>\n",
              "      <td>1.000000</td>\n",
              "      <td>1.000000</td>\n",
              "      <td>130.000000</td>\n",
              "      <td>240.000000</td>\n",
              "      <td>0.000000</td>\n",
              "      <td>1.000000</td>\n",
              "      <td>153.000000</td>\n",
              "      <td>0.000000</td>\n",
              "      <td>0.800000</td>\n",
              "      <td>1.000000</td>\n",
              "      <td>0.000000</td>\n",
              "      <td>2.000000</td>\n",
              "      <td>1.000000</td>\n",
              "    </tr>\n",
              "    <tr>\n",
              "      <th>75%</th>\n",
              "      <td>61.000000</td>\n",
              "      <td>1.000000</td>\n",
              "      <td>2.000000</td>\n",
              "      <td>140.000000</td>\n",
              "      <td>274.500000</td>\n",
              "      <td>0.000000</td>\n",
              "      <td>1.000000</td>\n",
              "      <td>166.000000</td>\n",
              "      <td>1.000000</td>\n",
              "      <td>1.600000</td>\n",
              "      <td>2.000000</td>\n",
              "      <td>1.000000</td>\n",
              "      <td>3.000000</td>\n",
              "      <td>1.000000</td>\n",
              "    </tr>\n",
              "    <tr>\n",
              "      <th>max</th>\n",
              "      <td>77.000000</td>\n",
              "      <td>1.000000</td>\n",
              "      <td>3.000000</td>\n",
              "      <td>200.000000</td>\n",
              "      <td>564.000000</td>\n",
              "      <td>1.000000</td>\n",
              "      <td>2.000000</td>\n",
              "      <td>202.000000</td>\n",
              "      <td>1.000000</td>\n",
              "      <td>6.200000</td>\n",
              "      <td>2.000000</td>\n",
              "      <td>4.000000</td>\n",
              "      <td>3.000000</td>\n",
              "      <td>1.000000</td>\n",
              "    </tr>\n",
              "  </tbody>\n",
              "</table>\n",
              "</div>"
            ],
            "text/plain": [
              "              age         sex          cp  ...          ca        thal      target\n",
              "count  303.000000  303.000000  303.000000  ...  303.000000  303.000000  303.000000\n",
              "mean    54.366337    0.683168    0.966997  ...    0.729373    2.313531    0.544554\n",
              "std      9.082101    0.466011    1.032052  ...    1.022606    0.612277    0.498835\n",
              "min     29.000000    0.000000    0.000000  ...    0.000000    0.000000    0.000000\n",
              "25%     47.500000    0.000000    0.000000  ...    0.000000    2.000000    0.000000\n",
              "50%     55.000000    1.000000    1.000000  ...    0.000000    2.000000    1.000000\n",
              "75%     61.000000    1.000000    2.000000  ...    1.000000    3.000000    1.000000\n",
              "max     77.000000    1.000000    3.000000  ...    4.000000    3.000000    1.000000\n",
              "\n",
              "[8 rows x 14 columns]"
            ]
          },
          "execution_count": 6,
          "metadata": {},
          "output_type": "execute_result"
        }
      ],
      "source": [
        "# Diferentes metricas para visualização rápida\n",
        "\n",
        "df.describe()"
      ],
      "id": "ro09Dcx3g21g"
    },
    {
      "cell_type": "code",
      "execution_count": null,
      "metadata": {
        "colab": {
          "base_uri": "https://localhost:8080/",
          "height": 404
        },
        "id": "UexIVDqmhHvD",
        "outputId": "0d4ea7ba-3f69-434a-d3c3-160795fbc503"
      },
      "outputs": [
        {
          "data": {
            "image/png": "[encoded data removed]",
            "text/plain": [
              "<Figure size 720x432 with 1 Axes>"
            ]
          },
          "metadata": {},
          "output_type": "display_data"
        }
      ],
      "source": [
        "# Comaparando a frequencia de doenças cardíacas por genero\n",
        "\n",
        "pd.crosstab(df.target, df.sex).plot(kind='bar', figsize=(10,6), color=['salmon', 'lightblue'])\n",
        "\n",
        "plt.title('Doenças cardíacas X Gênero')\n",
        "plt.xlabel('0 = Não doente, 1 = Doente')\n",
        "plt.ylabel('Quantidade')\n",
        "plt.legend(['Feminino', 'Masculino'])\n",
        "plt.xticks(rotation=0);"
      ],
      "id": "UexIVDqmhHvD"
    },
    {
      "cell_type": "code",
      "execution_count": null,
      "metadata": {
        "colab": {
          "base_uri": "https://localhost:8080/",
          "height": 404
        },
        "id": "oYB7VdkJhXXo",
        "outputId": "ded4ec6b-8ca7-4dc0-ca4f-f2176ccbe4c6"
      },
      "outputs": [
        {
          "data": {
            "image/png": "[encoded data removed]",
            "text/plain": [
              "<Figure size 720x432 with 1 Axes>"
            ]
          },
          "metadata": {},
          "output_type": "display_data"
        }
      ],
      "source": [
        "# Idade X Pressão arterial máxima\n",
        "\n",
        "plt.figure(figsize=(10,6))\n",
        "\n",
        "# Exemplos positivos\n",
        "plt.scatter(df.age[df.target==1],\n",
        "            df.thalach[df.target==1],\n",
        "            c='Salmon')\n",
        "\n",
        "# Exemplos negativos\n",
        "plt.scatter(df.age[df.target==0],\n",
        "            df.thalach[df.target==0],\n",
        "            c='lightblue')\n",
        "\n",
        "plt.title('Idade X Pressão arterial máxima')\n",
        "plt.xlabel('Idade')\n",
        "plt.ylabel('Pressão arterial máxima')\n",
        "plt.legend(['Doente', 'Não Doente']);"
      ],
      "id": "oYB7VdkJhXXo"
    },
    {
      "cell_type": "markdown",
      "metadata": {
        "id": "X6Cb8vwfsg-a"
      },
      "source": [
        "O que podemos inferir disso?\n",
        "\n",
        "Parece que quanto mais jovem alguém é, mais alta é a frequência cardíaca máxima (os pontos são mais altos à esquerda do gráfico). Mas isso pode ser porque há mais pontos todos juntos no lado direito do gráfico (participantes mais velhos).\n",
        "\n",
        "Ambos são observacionais, é claro, mas é isso que estamos tentando fazer, construir uma compreensão dos dados.\n",
        "\n",
        "Vamos verificar a distribuição de idade. "
      ],
      "id": "X6Cb8vwfsg-a"
    },
    {
      "cell_type": "code",
      "execution_count": null,
      "metadata": {
        "colab": {
          "base_uri": "https://localhost:8080/",
          "height": 265
        },
        "id": "pzMx6h_1r0qn",
        "outputId": "0e9c5d99-4350-4fb7-8657-d29dcf8f278b"
      },
      "outputs": [
        {
          "data": {
            "image/png": "[encoded data removed]",
            "text/plain": [
              "<Figure size 432x288 with 1 Axes>"
            ]
          },
          "metadata": {},
          "output_type": "display_data"
        }
      ],
      "source": [
        "df.age.plot.hist();"
      ],
      "id": "pzMx6h_1r0qn"
    },
    {
      "cell_type": "code",
      "execution_count": null,
      "metadata": {
        "colab": {
          "base_uri": "https://localhost:8080/",
          "height": 404
        },
        "id": "GGixC23vs6YC",
        "outputId": "c7ee8965-1145-424e-ea31-8bf0634330de"
      },
      "outputs": [
        {
          "data": {
            "image/png": "[encoded data removed]",
            "text/plain": [
              "<Figure size 720x432 with 1 Axes>"
            ]
          },
          "metadata": {},
          "output_type": "display_data"
        }
      ],
      "source": [
        "pd.crosstab(df.cp, df.target).plot(kind='bar', figsize=(10,6), color=['lightblue', 'salmon'])\n",
        "\n",
        "plt.title('Doenças cardiacas X Dores no peito')\n",
        "plt.xlabel('Dores no peito')\n",
        "plt.ylabel('Frequencia')\n",
        "plt.legend(['Não doente', 'Doente'])\n",
        "plt.xticks(rotation=0);"
      ],
      "id": "GGixC23vs6YC"
    },
    {
      "cell_type": "markdown",
      "metadata": {
        "id": "Sslf3rdhaXR2"
      },
      "source": [
        "3. cp - tipo de dor no peito\n",
        "     * 0: Angina típica: dor no peito relacionada à diminuição do suprimento de sangue ao coração\n",
        "     * 1: Angina atípica: dor no peito não relacionada ao coração\n",
        "     * 2: Dor não anginosa: tipicamente espasmos esofágicos (não relacionados ao coração)\n",
        "     * 3: Assintomático: dor no peito sem sinais de doença "
      ],
      "id": "Sslf3rdhaXR2"
    },
    {
      "cell_type": "code",
      "execution_count": null,
      "metadata": {
        "colab": {
          "base_uri": "https://localhost:8080/",
          "height": 503
        },
        "id": "fx9zBlnXdqBA",
        "outputId": "31c56382-c3f3-40b0-cef7-40a648986596"
      },
      "outputs": [
        {
          "data": {
            "text/html": [
              "<div>\n",
              "<style scoped>\n",
              "    .dataframe tbody tr th:only-of-type {\n",
              "        vertical-align: middle;\n",
              "    }\n",
              "\n",
              "    .dataframe tbody tr th {\n",
              "        vertical-align: top;\n",
              "    }\n",
              "\n",
              "    .dataframe thead th {\n",
              "        text-align: right;\n",
              "    }\n",
              "</style>\n",
              "<table border=\"1\" class=\"dataframe\">\n",
              "  <thead>\n",
              "    <tr style=\"text-align: right;\">\n",
              "      <th></th>\n",
              "      <th>age</th>\n",
              "      <th>sex</th>\n",
              "      <th>cp</th>\n",
              "      <th>trestbps</th>\n",
              "      <th>chol</th>\n",
              "      <th>fbs</th>\n",
              "      <th>restecg</th>\n",
              "      <th>thalach</th>\n",
              "      <th>exang</th>\n",
              "      <th>oldpeak</th>\n",
              "      <th>slope</th>\n",
              "      <th>ca</th>\n",
              "      <th>thal</th>\n",
              "      <th>target</th>\n",
              "    </tr>\n",
              "  </thead>\n",
              "  <tbody>\n",
              "    <tr>\n",
              "      <th>age</th>\n",
              "      <td>1.000000</td>\n",
              "      <td>-0.098447</td>\n",
              "      <td>-0.068653</td>\n",
              "      <td>0.279351</td>\n",
              "      <td>0.213678</td>\n",
              "      <td>0.121308</td>\n",
              "      <td>-0.116211</td>\n",
              "      <td>-0.398522</td>\n",
              "      <td>0.096801</td>\n",
              "      <td>0.210013</td>\n",
              "      <td>-0.168814</td>\n",
              "      <td>0.276326</td>\n",
              "      <td>0.068001</td>\n",
              "      <td>-0.225439</td>\n",
              "    </tr>\n",
              "    <tr>\n",
              "      <th>sex</th>\n",
              "      <td>-0.098447</td>\n",
              "      <td>1.000000</td>\n",
              "      <td>-0.049353</td>\n",
              "      <td>-0.056769</td>\n",
              "      <td>-0.197912</td>\n",
              "      <td>0.045032</td>\n",
              "      <td>-0.058196</td>\n",
              "      <td>-0.044020</td>\n",
              "      <td>0.141664</td>\n",
              "      <td>0.096093</td>\n",
              "      <td>-0.030711</td>\n",
              "      <td>0.118261</td>\n",
              "      <td>0.210041</td>\n",
              "      <td>-0.280937</td>\n",
              "    </tr>\n",
              "    <tr>\n",
              "      <th>cp</th>\n",
              "      <td>-0.068653</td>\n",
              "      <td>-0.049353</td>\n",
              "      <td>1.000000</td>\n",
              "      <td>0.047608</td>\n",
              "      <td>-0.076904</td>\n",
              "      <td>0.094444</td>\n",
              "      <td>0.044421</td>\n",
              "      <td>0.295762</td>\n",
              "      <td>-0.394280</td>\n",
              "      <td>-0.149230</td>\n",
              "      <td>0.119717</td>\n",
              "      <td>-0.181053</td>\n",
              "      <td>-0.161736</td>\n",
              "      <td>0.433798</td>\n",
              "    </tr>\n",
              "    <tr>\n",
              "      <th>trestbps</th>\n",
              "      <td>0.279351</td>\n",
              "      <td>-0.056769</td>\n",
              "      <td>0.047608</td>\n",
              "      <td>1.000000</td>\n",
              "      <td>0.123174</td>\n",
              "      <td>0.177531</td>\n",
              "      <td>-0.114103</td>\n",
              "      <td>-0.046698</td>\n",
              "      <td>0.067616</td>\n",
              "      <td>0.193216</td>\n",
              "      <td>-0.121475</td>\n",
              "      <td>0.101389</td>\n",
              "      <td>0.062210</td>\n",
              "      <td>-0.144931</td>\n",
              "    </tr>\n",
              "    <tr>\n",
              "      <th>chol</th>\n",
              "      <td>0.213678</td>\n",
              "      <td>-0.197912</td>\n",
              "      <td>-0.076904</td>\n",
              "      <td>0.123174</td>\n",
              "      <td>1.000000</td>\n",
              "      <td>0.013294</td>\n",
              "      <td>-0.151040</td>\n",
              "      <td>-0.009940</td>\n",
              "      <td>0.067023</td>\n",
              "      <td>0.053952</td>\n",
              "      <td>-0.004038</td>\n",
              "      <td>0.070511</td>\n",
              "      <td>0.098803</td>\n",
              "      <td>-0.085239</td>\n",
              "    </tr>\n",
              "    <tr>\n",
              "      <th>fbs</th>\n",
              "      <td>0.121308</td>\n",
              "      <td>0.045032</td>\n",
              "      <td>0.094444</td>\n",
              "      <td>0.177531</td>\n",
              "      <td>0.013294</td>\n",
              "      <td>1.000000</td>\n",
              "      <td>-0.084189</td>\n",
              "      <td>-0.008567</td>\n",
              "      <td>0.025665</td>\n",
              "      <td>0.005747</td>\n",
              "      <td>-0.059894</td>\n",
              "      <td>0.137979</td>\n",
              "      <td>-0.032019</td>\n",
              "      <td>-0.028046</td>\n",
              "    </tr>\n",
              "    <tr>\n",
              "      <th>restecg</th>\n",
              "      <td>-0.116211</td>\n",
              "      <td>-0.058196</td>\n",
              "      <td>0.044421</td>\n",
              "      <td>-0.114103</td>\n",
              "      <td>-0.151040</td>\n",
              "      <td>-0.084189</td>\n",
              "      <td>1.000000</td>\n",
              "      <td>0.044123</td>\n",
              "      <td>-0.070733</td>\n",
              "      <td>-0.058770</td>\n",
              "      <td>0.093045</td>\n",
              "      <td>-0.072042</td>\n",
              "      <td>-0.011981</td>\n",
              "      <td>0.137230</td>\n",
              "    </tr>\n",
              "    <tr>\n",
              "      <th>thalach</th>\n",
              "      <td>-0.398522</td>\n",
              "      <td>-0.044020</td>\n",
              "      <td>0.295762</td>\n",
              "      <td>-0.046698</td>\n",
              "      <td>-0.009940</td>\n",
              "      <td>-0.008567</td>\n",
              "      <td>0.044123</td>\n",
              "      <td>1.000000</td>\n",
              "      <td>-0.378812</td>\n",
              "      <td>-0.344187</td>\n",
              "      <td>0.386784</td>\n",
              "      <td>-0.213177</td>\n",
              "      <td>-0.096439</td>\n",
              "      <td>0.421741</td>\n",
              "    </tr>\n",
              "    <tr>\n",
              "      <th>exang</th>\n",
              "      <td>0.096801</td>\n",
              "      <td>0.141664</td>\n",
              "      <td>-0.394280</td>\n",
              "      <td>0.067616</td>\n",
              "      <td>0.067023</td>\n",
              "      <td>0.025665</td>\n",
              "      <td>-0.070733</td>\n",
              "      <td>-0.378812</td>\n",
              "      <td>1.000000</td>\n",
              "      <td>0.288223</td>\n",
              "      <td>-0.257748</td>\n",
              "      <td>0.115739</td>\n",
              "      <td>0.206754</td>\n",
              "      <td>-0.436757</td>\n",
              "    </tr>\n",
              "    <tr>\n",
              "      <th>oldpeak</th>\n",
              "      <td>0.210013</td>\n",
              "      <td>0.096093</td>\n",
              "      <td>-0.149230</td>\n",
              "      <td>0.193216</td>\n",
              "      <td>0.053952</td>\n",
              "      <td>0.005747</td>\n",
              "      <td>-0.058770</td>\n",
              "      <td>-0.344187</td>\n",
              "      <td>0.288223</td>\n",
              "      <td>1.000000</td>\n",
              "      <td>-0.577537</td>\n",
              "      <td>0.222682</td>\n",
              "      <td>0.210244</td>\n",
              "      <td>-0.430696</td>\n",
              "    </tr>\n",
              "    <tr>\n",
              "      <th>slope</th>\n",
              "      <td>-0.168814</td>\n",
              "      <td>-0.030711</td>\n",
              "      <td>0.119717</td>\n",
              "      <td>-0.121475</td>\n",
              "      <td>-0.004038</td>\n",
              "      <td>-0.059894</td>\n",
              "      <td>0.093045</td>\n",
              "      <td>0.386784</td>\n",
              "      <td>-0.257748</td>\n",
              "      <td>-0.577537</td>\n",
              "      <td>1.000000</td>\n",
              "      <td>-0.080155</td>\n",
              "      <td>-0.104764</td>\n",
              "      <td>0.345877</td>\n",
              "    </tr>\n",
              "    <tr>\n",
              "      <th>ca</th>\n",
              "      <td>0.276326</td>\n",
              "      <td>0.118261</td>\n",
              "      <td>-0.181053</td>\n",
              "      <td>0.101389</td>\n",
              "      <td>0.070511</td>\n",
              "      <td>0.137979</td>\n",
              "      <td>-0.072042</td>\n",
              "      <td>-0.213177</td>\n",
              "      <td>0.115739</td>\n",
              "      <td>0.222682</td>\n",
              "      <td>-0.080155</td>\n",
              "      <td>1.000000</td>\n",
              "      <td>0.151832</td>\n",
              "      <td>-0.391724</td>\n",
              "    </tr>\n",
              "    <tr>\n",
              "      <th>thal</th>\n",
              "      <td>0.068001</td>\n",
              "      <td>0.210041</td>\n",
              "      <td>-0.161736</td>\n",
              "      <td>0.062210</td>\n",
              "      <td>0.098803</td>\n",
              "      <td>-0.032019</td>\n",
              "      <td>-0.011981</td>\n",
              "      <td>-0.096439</td>\n",
              "      <td>0.206754</td>\n",
              "      <td>0.210244</td>\n",
              "      <td>-0.104764</td>\n",
              "      <td>0.151832</td>\n",
              "      <td>1.000000</td>\n",
              "      <td>-0.344029</td>\n",
              "    </tr>\n",
              "    <tr>\n",
              "      <th>target</th>\n",
              "      <td>-0.225439</td>\n",
              "      <td>-0.280937</td>\n",
              "      <td>0.433798</td>\n",
              "      <td>-0.144931</td>\n",
              "      <td>-0.085239</td>\n",
              "      <td>-0.028046</td>\n",
              "      <td>0.137230</td>\n",
              "      <td>0.421741</td>\n",
              "      <td>-0.436757</td>\n",
              "      <td>-0.430696</td>\n",
              "      <td>0.345877</td>\n",
              "      <td>-0.391724</td>\n",
              "      <td>-0.344029</td>\n",
              "      <td>1.000000</td>\n",
              "    </tr>\n",
              "  </tbody>\n",
              "</table>\n",
              "</div>"
            ],
            "text/plain": [
              "               age       sex        cp  ...        ca      thal    target\n",
              "age       1.000000 -0.098447 -0.068653  ...  0.276326  0.068001 -0.225439\n",
              "sex      -0.098447  1.000000 -0.049353  ...  0.118261  0.210041 -0.280937\n",
              "cp       -0.068653 -0.049353  1.000000  ... -0.181053 -0.161736  0.433798\n",
              "trestbps  0.279351 -0.056769  0.047608  ...  0.101389  0.062210 -0.144931\n",
              "chol      0.213678 -0.197912 -0.076904  ...  0.070511  0.098803 -0.085239\n",
              "fbs       0.121308  0.045032  0.094444  ...  0.137979 -0.032019 -0.028046\n",
              "restecg  -0.116211 -0.058196  0.044421  ... -0.072042 -0.011981  0.137230\n",
              "thalach  -0.398522 -0.044020  0.295762  ... -0.213177 -0.096439  0.421741\n",
              "exang     0.096801  0.141664 -0.394280  ...  0.115739  0.206754 -0.436757\n",
              "oldpeak   0.210013  0.096093 -0.149230  ...  0.222682  0.210244 -0.430696\n",
              "slope    -0.168814 -0.030711  0.119717  ... -0.080155 -0.104764  0.345877\n",
              "ca        0.276326  0.118261 -0.181053  ...  1.000000  0.151832 -0.391724\n",
              "thal      0.068001  0.210041 -0.161736  ...  0.151832  1.000000 -0.344029\n",
              "target   -0.225439 -0.280937  0.433798  ... -0.391724 -0.344029  1.000000\n",
              "\n",
              "[14 rows x 14 columns]"
            ]
          },
          "execution_count": 11,
          "metadata": {},
          "output_type": "execute_result"
        }
      ],
      "source": [
        "# correlation matrix - Tabela que demonstra o quão correlacionados estão as variaveis uma das outras\n",
        "df.corr()"
      ],
      "id": "fx9zBlnXdqBA"
    },
    {
      "cell_type": "code",
      "execution_count": null,
      "metadata": {
        "colab": {
          "base_uri": "https://localhost:8080/",
          "height": 595
        },
        "id": "nA9Lx0VmeN08",
        "outputId": "52ce8f64-5a26-47a1-b272-12edf245e354"
      },
      "outputs": [
        {
          "data": {
            "image/png": "[encoded data removed]",
            "text/plain": [
              "<Figure size 1080x720 with 2 Axes>"
            ]
          },
          "metadata": {},
          "output_type": "display_data"
        }
      ],
      "source": [
        " corr_matrix = df.corr()\n",
        " plt.figure(figsize=(15,10))\n",
        " sns.heatmap(corr_matrix,\n",
        "             annot=True,\n",
        "             linewidths=0.5,\n",
        "             fmt='.2f',\n",
        "             cmap='YlGnBu');"
      ],
      "id": "nA9Lx0VmeN08"
    },
    {
      "cell_type": "markdown",
      "metadata": {
        "id": "n7uKlSHUf-kB"
      },
      "source": [
        "Um valor positivo mais alto significa uma correlação positiva potencial (aumento) e um valor negativo mais alto significa uma correlação negativa potencial (diminuição). "
      ],
      "id": "n7uKlSHUf-kB"
    },
    {
      "cell_type": "markdown",
      "metadata": {
        "id": "1aDhDcc1gHWQ"
      },
      "source": [
        "## 5. Modelagem\n",
        "\n",
        "Exploramos os dados, agora tentaremos usar machine learning para prever nossa variável de destino com base nas 13 variáveis independentes.\n",
        "\n",
        "> Dados os parâmetros clínicos de um paciente, podemos prever se ele tem ou não doença cardíaca?\n",
        "\n",
        "Tentaremos atingir 95% de precisão na previsão se um paciente tem ou não doença cardíaca."
      ],
      "id": "1aDhDcc1gHWQ"
    },
    {
      "cell_type": "code",
      "execution_count": null,
      "metadata": {
        "colab": {
          "base_uri": "https://localhost:8080/",
          "height": 419
        },
        "id": "O9KMEKZbfRI9",
        "outputId": "b1650512-794d-47c1-c9a7-43f004999293"
      },
      "outputs": [
        {
          "data": {
            "text/html": [
              "<div>\n",
              "<style scoped>\n",
              "    .dataframe tbody tr th:only-of-type {\n",
              "        vertical-align: middle;\n",
              "    }\n",
              "\n",
              "    .dataframe tbody tr th {\n",
              "        vertical-align: top;\n",
              "    }\n",
              "\n",
              "    .dataframe thead th {\n",
              "        text-align: right;\n",
              "    }\n",
              "</style>\n",
              "<table border=\"1\" class=\"dataframe\">\n",
              "  <thead>\n",
              "    <tr style=\"text-align: right;\">\n",
              "      <th></th>\n",
              "      <th>age</th>\n",
              "      <th>sex</th>\n",
              "      <th>cp</th>\n",
              "      <th>trestbps</th>\n",
              "      <th>chol</th>\n",
              "      <th>fbs</th>\n",
              "      <th>restecg</th>\n",
              "      <th>thalach</th>\n",
              "      <th>exang</th>\n",
              "      <th>oldpeak</th>\n",
              "      <th>slope</th>\n",
              "      <th>ca</th>\n",
              "      <th>thal</th>\n",
              "      <th>target</th>\n",
              "    </tr>\n",
              "  </thead>\n",
              "  <tbody>\n",
              "    <tr>\n",
              "      <th>0</th>\n",
              "      <td>63</td>\n",
              "      <td>1</td>\n",
              "      <td>3</td>\n",
              "      <td>145</td>\n",
              "      <td>233</td>\n",
              "      <td>1</td>\n",
              "      <td>0</td>\n",
              "      <td>150</td>\n",
              "      <td>0</td>\n",
              "      <td>2.3</td>\n",
              "      <td>0</td>\n",
              "      <td>0</td>\n",
              "      <td>1</td>\n",
              "      <td>1</td>\n",
              "    </tr>\n",
              "    <tr>\n",
              "      <th>1</th>\n",
              "      <td>37</td>\n",
              "      <td>1</td>\n",
              "      <td>2</td>\n",
              "      <td>130</td>\n",
              "      <td>250</td>\n",
              "      <td>0</td>\n",
              "      <td>1</td>\n",
              "      <td>187</td>\n",
              "      <td>0</td>\n",
              "      <td>3.5</td>\n",
              "      <td>0</td>\n",
              "      <td>0</td>\n",
              "      <td>2</td>\n",
              "      <td>1</td>\n",
              "    </tr>\n",
              "    <tr>\n",
              "      <th>2</th>\n",
              "      <td>41</td>\n",
              "      <td>0</td>\n",
              "      <td>1</td>\n",
              "      <td>130</td>\n",
              "      <td>204</td>\n",
              "      <td>0</td>\n",
              "      <td>0</td>\n",
              "      <td>172</td>\n",
              "      <td>0</td>\n",
              "      <td>1.4</td>\n",
              "      <td>2</td>\n",
              "      <td>0</td>\n",
              "      <td>2</td>\n",
              "      <td>1</td>\n",
              "    </tr>\n",
              "    <tr>\n",
              "      <th>3</th>\n",
              "      <td>56</td>\n",
              "      <td>1</td>\n",
              "      <td>1</td>\n",
              "      <td>120</td>\n",
              "      <td>236</td>\n",
              "      <td>0</td>\n",
              "      <td>1</td>\n",
              "      <td>178</td>\n",
              "      <td>0</td>\n",
              "      <td>0.8</td>\n",
              "      <td>2</td>\n",
              "      <td>0</td>\n",
              "      <td>2</td>\n",
              "      <td>1</td>\n",
              "    </tr>\n",
              "    <tr>\n",
              "      <th>4</th>\n",
              "      <td>57</td>\n",
              "      <td>0</td>\n",
              "      <td>0</td>\n",
              "      <td>120</td>\n",
              "      <td>354</td>\n",
              "      <td>0</td>\n",
              "      <td>1</td>\n",
              "      <td>163</td>\n",
              "      <td>1</td>\n",
              "      <td>0.6</td>\n",
              "      <td>2</td>\n",
              "      <td>0</td>\n",
              "      <td>2</td>\n",
              "      <td>1</td>\n",
              "    </tr>\n",
              "    <tr>\n",
              "      <th>...</th>\n",
              "      <td>...</td>\n",
              "      <td>...</td>\n",
              "      <td>...</td>\n",
              "      <td>...</td>\n",
              "      <td>...</td>\n",
              "      <td>...</td>\n",
              "      <td>...</td>\n",
              "      <td>...</td>\n",
              "      <td>...</td>\n",
              "      <td>...</td>\n",
              "      <td>...</td>\n",
              "      <td>...</td>\n",
              "      <td>...</td>\n",
              "      <td>...</td>\n",
              "    </tr>\n",
              "    <tr>\n",
              "      <th>298</th>\n",
              "      <td>57</td>\n",
              "      <td>0</td>\n",
              "      <td>0</td>\n",
              "      <td>140</td>\n",
              "      <td>241</td>\n",
              "      <td>0</td>\n",
              "      <td>1</td>\n",
              "      <td>123</td>\n",
              "      <td>1</td>\n",
              "      <td>0.2</td>\n",
              "      <td>1</td>\n",
              "      <td>0</td>\n",
              "      <td>3</td>\n",
              "      <td>0</td>\n",
              "    </tr>\n",
              "    <tr>\n",
              "      <th>299</th>\n",
              "      <td>45</td>\n",
              "      <td>1</td>\n",
              "      <td>3</td>\n",
              "      <td>110</td>\n",
              "      <td>264</td>\n",
              "      <td>0</td>\n",
              "      <td>1</td>\n",
              "      <td>132</td>\n",
              "      <td>0</td>\n",
              "      <td>1.2</td>\n",
              "      <td>1</td>\n",
              "      <td>0</td>\n",
              "      <td>3</td>\n",
              "      <td>0</td>\n",
              "    </tr>\n",
              "    <tr>\n",
              "      <th>300</th>\n",
              "      <td>68</td>\n",
              "      <td>1</td>\n",
              "      <td>0</td>\n",
              "      <td>144</td>\n",
              "      <td>193</td>\n",
              "      <td>1</td>\n",
              "      <td>1</td>\n",
              "      <td>141</td>\n",
              "      <td>0</td>\n",
              "      <td>3.4</td>\n",
              "      <td>1</td>\n",
              "      <td>2</td>\n",
              "      <td>3</td>\n",
              "      <td>0</td>\n",
              "    </tr>\n",
              "    <tr>\n",
              "      <th>301</th>\n",
              "      <td>57</td>\n",
              "      <td>1</td>\n",
              "      <td>0</td>\n",
              "      <td>130</td>\n",
              "      <td>131</td>\n",
              "      <td>0</td>\n",
              "      <td>1</td>\n",
              "      <td>115</td>\n",
              "      <td>1</td>\n",
              "      <td>1.2</td>\n",
              "      <td>1</td>\n",
              "      <td>1</td>\n",
              "      <td>3</td>\n",
              "      <td>0</td>\n",
              "    </tr>\n",
              "    <tr>\n",
              "      <th>302</th>\n",
              "      <td>57</td>\n",
              "      <td>0</td>\n",
              "      <td>1</td>\n",
              "      <td>130</td>\n",
              "      <td>236</td>\n",
              "      <td>0</td>\n",
              "      <td>0</td>\n",
              "      <td>174</td>\n",
              "      <td>0</td>\n",
              "      <td>0.0</td>\n",
              "      <td>1</td>\n",
              "      <td>1</td>\n",
              "      <td>2</td>\n",
              "      <td>0</td>\n",
              "    </tr>\n",
              "  </tbody>\n",
              "</table>\n",
              "<p>303 rows × 14 columns</p>\n",
              "</div>"
            ],
            "text/plain": [
              "     age  sex  cp  trestbps  chol  fbs  ...  exang  oldpeak  slope  ca  thal  target\n",
              "0     63    1   3       145   233    1  ...      0      2.3      0   0     1       1\n",
              "1     37    1   2       130   250    0  ...      0      3.5      0   0     2       1\n",
              "2     41    0   1       130   204    0  ...      0      1.4      2   0     2       1\n",
              "3     56    1   1       120   236    0  ...      0      0.8      2   0     2       1\n",
              "4     57    0   0       120   354    0  ...      1      0.6      2   0     2       1\n",
              "..   ...  ...  ..       ...   ...  ...  ...    ...      ...    ...  ..   ...     ...\n",
              "298   57    0   0       140   241    0  ...      1      0.2      1   0     3       0\n",
              "299   45    1   3       110   264    0  ...      0      1.2      1   0     3       0\n",
              "300   68    1   0       144   193    1  ...      0      3.4      1   2     3       0\n",
              "301   57    1   0       130   131    0  ...      1      1.2      1   1     3       0\n",
              "302   57    0   1       130   236    0  ...      0      0.0      1   1     2       0\n",
              "\n",
              "[303 rows x 14 columns]"
            ]
          },
          "execution_count": 13,
          "metadata": {},
          "output_type": "execute_result"
        }
      ],
      "source": [
        "df"
      ],
      "id": "O9KMEKZbfRI9"
    },
    {
      "cell_type": "code",
      "execution_count": null,
      "metadata": {
        "id": "WwLSWXtShrNL"
      },
      "outputs": [],
      "source": [
        "# Selecionando tudo menos o alvo\n",
        "X = df.iloc[:,:-1]\n",
        "# Selecionando o alvo\n",
        "y = df.iloc[:,-1]"
      ],
      "id": "WwLSWXtShrNL"
    },
    {
      "cell_type": "code",
      "execution_count": null,
      "metadata": {
        "id": "0CLFT-hrifOj"
      },
      "outputs": [],
      "source": [
        "# dividingo os dados para treino e teste\n",
        "\n",
        "X_train, X_test, y_train, y_test = train_test_split(X, y, test_size = 0.2)"
      ],
      "id": "0CLFT-hrifOj"
    },
    {
      "cell_type": "code",
      "execution_count": null,
      "metadata": {
        "id": "uCQaLbm1majb"
      },
      "outputs": [],
      "source": [
        "# Colocando modelos em um dicionario\n",
        "\n",
        "models = {'Random Forest': RandomForestClassifier(),\n",
        "          'KNN': KNeighborsClassifier(),\n",
        "          'Logistic Regression': LogisticRegression()}\n",
        "\n",
        "# Criando uma função \n",
        "def fit_and_score(models, X_train, X_test, y_train, y_test):\n",
        "  # Lista para guardar o resultado dos modelos\n",
        "  model_scores = {}\n",
        "  # Loop através dos modelos\n",
        "  for nome, modelo in models.items():\n",
        "    # Ajustando o modelo aos dados\n",
        "    modelo.fit(X_train, y_train)\n",
        "    # Avaliação do modelo e inserção na lista\n",
        "    model_scores[nome] = modelo.score(X_test, y_test)\n",
        "  return model_scores"
      ],
      "id": "uCQaLbm1majb"
    },
    {
      "cell_type": "code",
      "execution_count": null,
      "metadata": {
        "colab": {
          "base_uri": "https://localhost:8080/"
        },
        "id": "uTPjplWNmmj6",
        "outputId": "611148ea-09f8-4919-9912-8b2ef56e29ab"
      },
      "outputs": [
        {
          "name": "stderr",
          "output_type": "stream",
          "text": [
            "/usr/local/lib/python3.7/dist-packages/sklearn/linear_model/_logistic.py:940: ConvergenceWarning: lbfgs failed to converge (status=1):\n",
            "STOP: TOTAL NO. of ITERATIONS REACHED LIMIT.\n",
            "\n",
            "Increase the number of iterations (max_iter) or scale the data as shown in:\n",
            "    https://scikit-learn.org/stable/modules/preprocessing.html\n",
            "Please also refer to the documentation for alternative solver options:\n",
            "    https://scikit-learn.org/stable/modules/linear_model.html#logistic-regression\n",
            "  extra_warning_msg=_LOGISTIC_SOLVER_CONVERGENCE_MSG)\n"
          ]
        },
        {
          "data": {
            "text/plain": [
              "{'KNN': 0.6557377049180327,\n",
              " 'Logistic Regression': 0.8032786885245902,\n",
              " 'Random Forest': 0.8032786885245902}"
            ]
          },
          "execution_count": 17,
          "metadata": {},
          "output_type": "execute_result"
        }
      ],
      "source": [
        "model_scores = fit_and_score(models, X_train, X_test, y_train, y_test)\n",
        "model_scores"
      ],
      "id": "uTPjplWNmmj6"
    },
    {
      "cell_type": "code",
      "execution_count": null,
      "metadata": {
        "colab": {
          "base_uri": "https://localhost:8080/",
          "height": 351
        },
        "id": "W4JQ3mcarLhq",
        "outputId": "ef730e91-8e85-4a9b-9967-37d540131f38"
      },
      "outputs": [
        {
          "data": {
            "image/png": "[encoded data removed]",
            "text/plain": [
              "<Figure size 432x288 with 1 Axes>"
            ]
          },
          "metadata": {},
          "output_type": "display_data"
        }
      ],
      "source": [
        "pd.DataFrame(model_scores, index=['accuracy']).T.plot.bar();"
      ],
      "id": "W4JQ3mcarLhq"
    },
    {
      "cell_type": "markdown",
      "metadata": {
        "id": "5LwJSWe6f03A"
      },
      "source": [
        "## Hiperparametrização"
      ],
      "id": "5LwJSWe6f03A"
    },
    {
      "cell_type": "markdown",
      "metadata": {
        "id": "EJ7undjvd_l6"
      },
      "source": [
        "* [** Confusion matrix **] - Compara os valores previstos com os valores verdadeiros de forma tabular, se 100% correto, todos os valores na matriz serão da esquerda para a direita inferior (linha de diagnóstico).\n",
        "* [** Cross-validation **] - Divide seu conjunto de dados em várias partes, treina e testa seu modelo em cada parte e avalia o desempenho como um média.\n",
        "* [** Precision **] - Proporção de verdadeiros positivos sobre o número total de amostras. Uma precisão mais alta leva a menos falsos positivos.\n",
        "* [** Recall **] - Proporção de verdadeiros positivos sobre o número total de verdadeiros positivos e falsos negativos. Uma recordação mais alta leva a menos falsos negativos.\n",
        "* [** F1 score **] - Combina precisão e recall em uma métrica. 1 é o melhor, 0 é o pior.\n",
        "* [** Classification report **] - Sklearn tem uma função integrada chamada `classificação_report ()` que retorna algumas das principais métricas de classificação, como precisão, recall e pontuação f1.\n",
        "* [** Curva ROC **] - [Receiver Operating Characterisitc] é um gráfico da taxa de verdadeiro positivo versus taxa de falso positivo.\n",
        "* [** Area Under Curve (AUC) **] - A área abaixo da curva ROC. Um modelo perfeito atinge uma pontuação de 1,0. "
      ],
      "id": "EJ7undjvd_l6"
    },
    {
      "cell_type": "code",
      "execution_count": null,
      "metadata": {
        "id": "4hem3wgXdlxf"
      },
      "outputs": [],
      "source": [
        "# KNeighborsClassifier\n",
        "train_scores = []\n",
        "test_scores = []\n",
        "\n",
        "# criando uma lista de 1 a 20 para n_neighbors\n",
        "neighbors = range(1, 21)\n",
        "\n",
        "knn = KNeighborsClassifier()\n",
        "\n",
        "# Loop through different neighbors values\n",
        "for i in neighbors:\n",
        "  knn.set_params(n_neighbors = i)\n",
        "  knn.fit(X_train,y_train)\n",
        "  train_scores.append(knn.score(X_train, y_train))\n",
        "  test_scores.append(knn.score(X_test, y_test))"
      ],
      "id": "4hem3wgXdlxf"
    },
    {
      "cell_type": "code",
      "execution_count": null,
      "metadata": {
        "colab": {
          "base_uri": "https://localhost:8080/",
          "height": 296
        },
        "id": "Ei3aHONDwYwb",
        "outputId": "a83e9a1f-8727-4bcc-e87f-49df22a4283f"
      },
      "outputs": [
        {
          "name": "stdout",
          "output_type": "stream",
          "text": [
            "Pontuação máxima do modelo KNN com os dados de teste: 70.49%\n"
          ]
        },
        {
          "data": {
            "image/png": "[encoded data removed]",
            "text/plain": [
              "<Figure size 432x288 with 1 Axes>"
            ]
          },
          "metadata": {},
          "output_type": "display_data"
        }
      ],
      "source": [
        "plt.plot(neighbors, train_scores, label='Pontos do treino')\n",
        "plt.plot(neighbors, test_scores, label='Pontos do teste')\n",
        "plt.xticks(np.arange(1, 21, 1))\n",
        "plt.xlabel('Número dos \"vizinhos\"')\n",
        "plt.ylabel('Pontos do modelo')\n",
        "plt.legend()\n",
        "\n",
        "print(f'Pontuação máxima do modelo KNN com os dados de teste: {max(test_scores)*100:.2f}%')"
      ],
      "id": "Ei3aHONDwYwb"
    },
    {
      "cell_type": "code",
      "execution_count": null,
      "metadata": {
        "id": "pq9Z7mityapw"
      },
      "outputs": [],
      "source": [
        "# Hyperparametros diferentes para LogisticRegression\n",
        "log_reg_grid = {'C': np.logspace(-4, 4, 20),\n",
        "                'solver': ['liblinear']}\n",
        "\n",
        "# Hyperparametros diferentes para RandomForestClassifier\n",
        "rf_grid = {'n_estimators': np.arange(10, 1000, 50),\n",
        "           'max_depth': [None, 3, 5, 10],\n",
        "           'min_samples_split': np.arange(2, 20, 2),\n",
        "           'min_samples_leaf': np.arange(1, 20, 2)}"
      ],
      "id": "pq9Z7mityapw"
    },
    {
      "cell_type": "code",
      "execution_count": null,
      "metadata": {
        "colab": {
          "base_uri": "https://localhost:8080/"
        },
        "id": "ZdBzzohi52Fc",
        "outputId": "2579af7f-da08-47ca-b6dc-d1707f8eed7b"
      },
      "outputs": [
        {
          "name": "stdout",
          "output_type": "stream",
          "text": [
            "Fitting 5 folds for each of 20 candidates, totalling 100 fits\n"
          ]
        },
        {
          "name": "stderr",
          "output_type": "stream",
          "text": [
            "[Parallel(n_jobs=1)]: Using backend SequentialBackend with 1 concurrent workers.\n",
            "[Parallel(n_jobs=1)]: Done 100 out of 100 | elapsed:    0.4s finished\n"
          ]
        }
      ],
      "source": [
        "# Setup hyperparametros aleatorios para LogisticRegression\n",
        "rs_log_reg = RandomizedSearchCV(LogisticRegression(),\n",
        "                                param_distributions=log_reg_grid, cv=5, n_iter=20, verbose=True)\n",
        "\n",
        "rs_log_reg.fit(X_train, y_train);"
      ],
      "id": "ZdBzzohi52Fc"
    },
    {
      "cell_type": "code",
      "execution_count": null,
      "metadata": {
        "colab": {
          "base_uri": "https://localhost:8080/"
        },
        "id": "SguMufUZ6xc9",
        "outputId": "a88483d0-230e-44cd-b8d1-02f0c09b43cc"
      },
      "outputs": [
        {
          "data": {
            "text/plain": [
              "{'C': 0.615848211066026, 'solver': 'liblinear'}"
            ]
          },
          "execution_count": 23,
          "metadata": {},
          "output_type": "execute_result"
        }
      ],
      "source": [
        "rs_log_reg.best_params_"
      ],
      "id": "SguMufUZ6xc9"
    },
    {
      "cell_type": "code",
      "execution_count": null,
      "metadata": {
        "colab": {
          "base_uri": "https://localhost:8080/"
        },
        "id": "x7YbBk6_64HP",
        "outputId": "2f32d0f2-a10b-475f-8e0f-be8a64b271eb"
      },
      "outputs": [
        {
          "data": {
            "text/plain": [
              "0.819672131147541"
            ]
          },
          "execution_count": 24,
          "metadata": {},
          "output_type": "execute_result"
        }
      ],
      "source": [
        "rs_log_reg.score(X_test, y_test)"
      ],
      "id": "x7YbBk6_64HP"
    },
    {
      "cell_type": "code",
      "execution_count": null,
      "metadata": {
        "colab": {
          "background_save": true,
          "base_uri": "https://localhost:8080/"
        },
        "id": "p11sy-T67Bug",
        "outputId": "d379e4ac-acfc-4640-9890-59752fa4a889"
      },
      "outputs": [
        {
          "name": "stderr",
          "output_type": "stream",
          "text": [
            "[Parallel(n_jobs=1)]: Using backend SequentialBackend with 1 concurrent workers.\n"
          ]
        },
        {
          "name": "stdout",
          "output_type": "stream",
          "text": [
            "Fitting 5 folds for each of 20 candidates, totalling 100 fits\n"
          ]
        },
        {
          "name": "stderr",
          "output_type": "stream",
          "text": [
            "[Parallel(n_jobs=1)]: Done 100 out of 100 | elapsed:   57.9s finished\n"
          ]
        },
        {
          "data": {
            "text/plain": [
              "RandomizedSearchCV(cv=5, error_score=nan,\n",
              "                   estimator=RandomForestClassifier(bootstrap=True,\n",
              "                                                    ccp_alpha=0.0,\n",
              "                                                    class_weight=None,\n",
              "                                                    criterion='gini',\n",
              "                                                    max_depth=None,\n",
              "                                                    max_features='auto',\n",
              "                                                    max_leaf_nodes=None,\n",
              "                                                    max_samples=None,\n",
              "                                                    min_impurity_decrease=0.0,\n",
              "                                                    min_impurity_split=None,\n",
              "                                                    min_samples_leaf=1,\n",
              "                                                    min_samples_split=2,\n",
              "                                                    min_weight_fraction_leaf=0.0,\n",
              "                                                    n_estimators=100,\n",
              "                                                    n_jobs...\n",
              "                   param_distributions={'max_depth': [None, 3, 5, 10],\n",
              "                                        'min_samples_leaf': array([ 1,  3,  5,  7,  9, 11, 13, 15, 17, 19]),\n",
              "                                        'min_samples_split': array([ 2,  4,  6,  8, 10, 12, 14, 16, 18]),\n",
              "                                        'n_estimators': array([ 10,  60, 110, 160, 210, 260, 310, 360, 410, 460, 510, 560, 610,\n",
              "       660, 710, 760, 810, 860, 910, 960])},\n",
              "                   pre_dispatch='2*n_jobs', random_state=None, refit=True,\n",
              "                   return_train_score=False, scoring=None, verbose=True)"
            ]
          },
          "execution_count": null,
          "metadata": {},
          "output_type": "execute_result"
        }
      ],
      "source": [
        "# Hyperparametrização aleatoria para RandomForestClassifier\n",
        "rs_rf = RandomizedSearchCV(RandomForestClassifier(),\n",
        "                           param_distributions=rf_grid, cv=5, n_iter=20, verbose=True)\n",
        "\n",
        "rs_rf.fit(X_train, y_train)"
      ],
      "id": "p11sy-T67Bug"
    },
    {
      "cell_type": "code",
      "execution_count": null,
      "metadata": {
        "colab": {
          "background_save": true
        },
        "id": "oQuEQSeAYrhz",
        "outputId": "c42151e5-1e07-42a3-eb68-84f2a00475f5"
      },
      "outputs": [
        {
          "data": {
            "text/plain": [
              "{'max_depth': 5,\n",
              " 'min_samples_leaf': 7,\n",
              " 'min_samples_split': 6,\n",
              " 'n_estimators': 160}"
            ]
          },
          "execution_count": null,
          "metadata": {},
          "output_type": "execute_result"
        }
      ],
      "source": [
        "rs_rf.best_params_"
      ],
      "id": "oQuEQSeAYrhz"
    },
    {
      "cell_type": "code",
      "execution_count": null,
      "metadata": {
        "colab": {
          "background_save": true
        },
        "id": "EDa0db4VZvNK",
        "outputId": "2ba368af-2618-4716-ba8d-e9ee3bc9e317"
      },
      "outputs": [
        {
          "data": {
            "text/plain": [
              "0.7868852459016393"
            ]
          },
          "execution_count": null,
          "metadata": {},
          "output_type": "execute_result"
        }
      ],
      "source": [
        "rs_rf.score(X_test, y_test)"
      ],
      "id": "EDa0db4VZvNK"
    },
    {
      "cell_type": "markdown",
      "metadata": {
        "id": "B-vQoKI6bsA3"
      },
      "source": [
        "O ajuste dos hiperparâmetros para cada modelo obteve um ligeiro aumento de desempenho em `RandomForestClassifier` e` LogisticRegression`.\n",
        "\n",
        "* `RandomizedSearchCV` - tenta combinações de hiperparâmetros com` n_iter` e salva o melhor.\n",
        "* `GridSearchCV` - tenta cada combinação de hiperparâmetros e salva o melhor."
      ],
      "id": "B-vQoKI6bsA3"
    },
    {
      "cell_type": "code",
      "execution_count": null,
      "metadata": {
        "colab": {
          "background_save": true
        },
        "id": "QDT0Q_4CbefC",
        "outputId": "533454e5-937c-4c21-e6d6-fcbcce163692"
      },
      "outputs": [
        {
          "name": "stdout",
          "output_type": "stream",
          "text": [
            "Fitting 5 folds for each of 20 candidates, totalling 100 fits\n"
          ]
        },
        {
          "name": "stderr",
          "output_type": "stream",
          "text": [
            "[Parallel(n_jobs=1)]: Using backend SequentialBackend with 1 concurrent workers.\n",
            "[Parallel(n_jobs=1)]: Done 100 out of 100 | elapsed:    0.4s finished\n"
          ]
        }
      ],
      "source": [
        "log_reg_grid = {'C': np.logspace(-4, 4, 20),\n",
        "                'solver': ['liblinear']}\n",
        "\n",
        "gs_log_reg = GridSearchCV(LogisticRegression(),\n",
        "                          param_grid=log_reg_grid,cv=5, verbose=True)\n",
        "\n",
        "gs_log_reg.fit(X_train, y_train);"
      ],
      "id": "QDT0Q_4CbefC"
    },
    {
      "cell_type": "code",
      "execution_count": null,
      "metadata": {
        "colab": {
          "background_save": true
        },
        "id": "XGT7lertedBM",
        "outputId": "34e21c05-539d-445a-9f5b-a4c39d884907"
      },
      "outputs": [
        {
          "data": {
            "text/plain": [
              "{'C': 0.615848211066026, 'solver': 'liblinear'}"
            ]
          },
          "execution_count": null,
          "metadata": {},
          "output_type": "execute_result"
        }
      ],
      "source": [
        "gs_log_reg.best_params_"
      ],
      "id": "XGT7lertedBM"
    },
    {
      "cell_type": "code",
      "execution_count": null,
      "metadata": {
        "colab": {
          "background_save": true
        },
        "id": "uGDQo_a4ejDT",
        "outputId": "383ebffc-65f2-4328-ab06-0ac9e8d08368"
      },
      "outputs": [
        {
          "data": {
            "text/plain": [
              "0.819672131147541"
            ]
          },
          "execution_count": null,
          "metadata": {},
          "output_type": "execute_result"
        }
      ],
      "source": [
        "gs_log_reg.score(X_test,y_test)"
      ],
      "id": "uGDQo_a4ejDT"
    },
    {
      "cell_type": "markdown",
      "metadata": {
        "id": "KJUNjUcDfCuY"
      },
      "source": [
        "## Avaliando um modelo de classificação, além da precisão\n",
        "\n",
        "Agora que temos um modelo ajustado, vamos obter algumas das métricas.\n",
        "\n",
        "* Curva ROC e pontuação AUC - [`plot_roc_curve()`]\n",
        "* Matriz de confusão - [`confusion_matrix()`]\n",
        "* Relatório de classificação - [`classification_report()`]\n",
        "* Precisão - [`precision_score()`]\n",
        "* Recall - [`recall_score()`]\n",
        "* Pontuação F1 - [`f1_score()`]"
      ],
      "id": "KJUNjUcDfCuY"
    },
    {
      "cell_type": "code",
      "execution_count": null,
      "metadata": {
        "colab": {
          "background_save": true
        },
        "id": "fU0ttkuseoJD"
      },
      "outputs": [],
      "source": [
        "y_preds = gs_log_reg.predict(X_test)"
      ],
      "id": "fU0ttkuseoJD"
    },
    {
      "cell_type": "markdown",
      "metadata": {
        "id": "NVxUieoNWaGF"
      },
      "source": [
        "### Curva ROC e pontuações AUC\n",
        "\n",
        "ROC é uma maneira de compreender o desempenho do seu modelo, comparando a taxa de verdadeiro positivo com a taxa de falso positivo.\n",
        "\n",
        "> Para obter um exemplo apropriado considere um teste diagnóstico que visa determinar se uma pessoa tem uma determinada doença. Um falso positivo, nesse caso, ocorre quando o teste da pessoa é positivo, mas na verdade não tem a doença. Um falso negativo, por outro lado, ocorre quando a pessoa dá negativo, sugerindo que ela é saudável, quando na verdade ela tem a doença.\n",
        "\n",
        "Lendo a documentação sobre a função [`plot_roc_curve`] (https://scikit-learn.org/stable/modules/generated/sklearn.metrics.plot_roc_curve.html), podemos ver que leva` (estimador, X, y) ` como entradas. Onde `estiamator` é um modelo de aprendizado de máquina ajustado e` X` e `y` são os dados de teste."
      ],
      "id": "NVxUieoNWaGF"
    },
    {
      "cell_type": "code",
      "execution_count": null,
      "metadata": {
        "colab": {
          "background_save": true
        },
        "id": "OJa9jR0oZ9ag",
        "outputId": "9fc0afe9-51ab-471e-b8e1-6b2e619e2961"
      },
      "outputs": [
        {
          "data": {
            "image/png": "[encoded data removed]",
            "text/plain": [
              "<Figure size 432x288 with 1 Axes>"
            ]
          },
          "metadata": {},
          "output_type": "display_data"
        }
      ],
      "source": [
        "from sklearn.metrics import plot_roc_curve\n",
        "\n",
        "plot_roc_curve(gs_log_reg, X_test, y_test);"
      ],
      "id": "OJa9jR0oZ9ag"
    },
    {
      "cell_type": "markdown",
      "metadata": {
        "id": "VswjUdsRaQdx"
      },
      "source": [
        "Isso é ótimo, o modelo se sai muito melhor do que adivinhar qual seria uma linha que vai do canto inferior esquerdo ao canto superior direito, AUC = 0,5. Mas um modelo perfeito alcançaria uma pontuação de AUC de 1.0, então ainda há espaço para melhorias.\n",
        "\n",
        "### Matriz de confusão\n",
        "\n",
        "Uma matriz de confusão é uma forma visual de mostrar onde seu modelo fez as previsões certas e onde fez as previsões erradas (ou em outras palavras, ficou confuso).\n",
        "\n",
        "Scikit-Learn nos permite criar uma matriz de confusão usando [`confused_matrix ()`] (https://scikit-learn.org/stable/modules/generated/sklearn.metrics.confusion_matrix.html) e passando os rótulos verdadeiros e rótulos previstos. "
      ],
      "id": "VswjUdsRaQdx"
    },
    {
      "cell_type": "code",
      "execution_count": null,
      "metadata": {
        "colab": {
          "background_save": true
        },
        "id": "jHHqJmg0aLQq",
        "outputId": "bddb06a4-4851-4feb-dc3c-871d97258f97"
      },
      "outputs": [
        {
          "name": "stdout",
          "output_type": "stream",
          "text": [
            "[[17  9]\n",
            " [ 2 33]]\n"
          ]
        }
      ],
      "source": [
        "print(confusion_matrix(y_test, y_preds))"
      ],
      "id": "jHHqJmg0aLQq"
    },
    {
      "cell_type": "code",
      "execution_count": null,
      "metadata": {
        "colab": {
          "background_save": true
        },
        "id": "SwWVZNV3a3wJ",
        "outputId": "006f974a-e874-4d98-dad9-2be4fd1821c8"
      },
      "outputs": [
        {
          "data": {
            "image/png": "[encoded data removed]",
            "text/plain": [
              "<Figure size 216x216 with 1 Axes>"
            ]
          },
          "metadata": {},
          "output_type": "display_data"
        }
      ],
      "source": [
        "import seaborn as sns\n",
        "sns.set(font_scale=1.5)\n",
        "def plot_conf_mat(y_test, y_preds):\n",
        "  fig, ax = plt.subplots(figsize=(3, 3))\n",
        "  ax = sns.heatmap(confusion_matrix(y_test, y_preds),\n",
        "                   annot=True, cbar=False)\n",
        "  \n",
        "  plt.xlabel('Reais')\n",
        "  plt.ylabel('Previsão')\n",
        "\n",
        "plot_conf_mat(y_test, y_preds)"
      ],
      "id": "SwWVZNV3a3wJ"
    },
    {
      "cell_type": "code",
      "execution_count": null,
      "metadata": {
        "colab": {
          "background_save": true
        },
        "id": "LGx2Gzpmbm0K",
        "outputId": "aa4ada6a-e4d0-4af7-a5d8-301d2d3f6da3"
      },
      "outputs": [
        {
          "name": "stdout",
          "output_type": "stream",
          "text": [
            "              precision    recall  f1-score   support\n",
            "\n",
            "           0       0.89      0.65      0.76        26\n",
            "           1       0.79      0.94      0.86        35\n",
            "\n",
            "    accuracy                           0.82        61\n",
            "   macro avg       0.84      0.80      0.81        61\n",
            "weighted avg       0.83      0.82      0.81        61\n",
            "\n"
          ]
        }
      ],
      "source": [
        "print(classification_report(y_test, y_preds))"
      ],
      "id": "LGx2Gzpmbm0K"
    },
    {
      "cell_type": "markdown",
      "metadata": {
        "id": "Iq16JsYrcEK2"
      },
      "source": [
        "* ** Precisão ** - Indica a proporção de identificações positivas (classe 1 prevista pelo modelo) que estavam realmente corretas. Um modelo que não produz falsos positivos tem uma precisão de 1,0.\n",
        "* ** Rechamada ** - Indica a proporção de positivos reais que foram classificados corretamente. Um modelo que não produz falsos negativos tem um recall de 1.0.\n",
        "* ** Pontuação F1 ** - Uma combinação de precisão e recuperação. Um modelo perfeito atinge uma pontuação F1 de 1,0.\n",
        "* ** Suporte ** - O número de amostras em que cada métrica foi calculada.\n",
        "* ** Precisão ** - A precisão do modelo na forma decimal. A precisão perfeita é igual a 1,0.\n",
        "* ** Macro avg ** - abreviação de macro média, a precisão média, recall e pontuação F1 entre as classes. Macro avg não classifica desequilíbrio em esforço, então se você tiver desequilíbrios de classe, preste atenção a esta métrica.\n",
        "* ** Média ponderada ** - abreviação de média ponderada, a precisão da média ponderada, recall e pontuação F1 entre as classes. Ponderado significa que cada métrica é calculada com relação a quantas amostras existem em cada classe. Esta métrica favorecerá a classe majoritária (por exemplo, dará um valor alto quando uma classe supera a outra devido a ter mais amostras).\n",
        "\n",
        "`cross_val_score ()` funciona pegando um estimador (modelo de aprendizado de máquina) junto com dados e rótulos. Em seguida, ele avalia o modelo de aprendizado de máquina nos dados e rótulos usando validação cruzada e um parâmetro de `pontuação` definido."
      ],
      "id": "Iq16JsYrcEK2"
    },
    {
      "cell_type": "code",
      "execution_count": null,
      "metadata": {
        "colab": {
          "background_save": true
        },
        "id": "iZ3yh0Mpb9sb",
        "outputId": "debbdd47-cabe-461f-a6c3-e7fc8eab9aa0"
      },
      "outputs": [
        {
          "data": {
            "text/plain": [
              "{'C': 0.615848211066026, 'solver': 'liblinear'}"
            ]
          },
          "execution_count": null,
          "metadata": {},
          "output_type": "execute_result"
        }
      ],
      "source": [
        "gs_log_reg.best_params_"
      ],
      "id": "iZ3yh0Mpb9sb"
    },
    {
      "cell_type": "code",
      "execution_count": null,
      "metadata": {
        "colab": {
          "background_save": true
        },
        "id": "dexYVAXfcZCD"
      },
      "outputs": [],
      "source": [
        "from sklearn.model_selection import cross_val_score\n",
        "\n",
        "clf = LogisticRegression(C=0.08858667904100823, solver='liblinear')"
      ],
      "id": "dexYVAXfcZCD"
    },
    {
      "cell_type": "code",
      "execution_count": null,
      "metadata": {
        "colab": {
          "background_save": true
        },
        "id": "A1Avv9BEcm_4",
        "outputId": "ebdc4124-bdb6-46d1-c4a0-4b9ad9d9818f"
      },
      "outputs": [
        {
          "data": {
            "text/plain": [
              "array([0.81967213, 0.90163934, 0.83606557, 0.86666667, 0.75      ])"
            ]
          },
          "execution_count": null,
          "metadata": {},
          "output_type": "execute_result"
        }
      ],
      "source": [
        "cv_acc = cross_val_score(clf, X, y, cv=5, scoring='accuracy')\n",
        "cv_acc"
      ],
      "id": "A1Avv9BEcm_4"
    },
    {
      "cell_type": "code",
      "execution_count": null,
      "metadata": {
        "colab": {
          "background_save": true
        },
        "id": "x9oGaStLcw-g",
        "outputId": "36f6590f-cfbd-4d0d-8972-982bb8e8ba08"
      },
      "outputs": [
        {
          "data": {
            "text/plain": [
              "0.834808743169399"
            ]
          },
          "execution_count": null,
          "metadata": {},
          "output_type": "execute_result"
        }
      ],
      "source": [
        "# Pegando a média\n",
        "cv_acc_mean = np.mean(cv_acc)\n",
        "cv_acc_mean"
      ],
      "id": "x9oGaStLcw-g"
    },
    {
      "cell_type": "code",
      "execution_count": null,
      "metadata": {
        "colab": {
          "background_save": true
        },
        "id": "SFKJz5gIdIsw"
      },
      "outputs": [],
      "source": [
        "cv_precision = cross_val_score(clf, X, y, cv=5, scoring='precision')"
      ],
      "id": "SFKJz5gIdIsw"
    },
    {
      "cell_type": "code",
      "execution_count": null,
      "metadata": {
        "colab": {
          "background_save": true
        },
        "id": "treLJcdSduZc"
      },
      "outputs": [],
      "source": [
        "cv_recall = cross_val_score(clf, X, y, cv=5, scoring='recall')"
      ],
      "id": "treLJcdSduZc"
    },
    {
      "cell_type": "code",
      "execution_count": null,
      "metadata": {
        "colab": {
          "background_save": true
        },
        "id": "SlKT0TJldyow"
      },
      "outputs": [],
      "source": [
        "cv_f1 = cross_val_score(clf, X, y, cv=5, scoring='f1')"
      ],
      "id": "SlKT0TJldyow"
    },
    {
      "cell_type": "code",
      "execution_count": null,
      "metadata": {
        "colab": {
          "background_save": true
        },
        "id": "1htNrFHwhiDV"
      },
      "outputs": [],
      "source": [
        "# Estabelecendo as médias\n",
        "cv_acc = np.mean(cv_acc)\n",
        "cv_precision = np.mean(cv_precision)\n",
        "cv_recall = np.mean(cv_recall)\n",
        "cv_f1 = np.mean(cv_f1)"
      ],
      "id": "1htNrFHwhiDV"
    },
    {
      "cell_type": "code",
      "execution_count": null,
      "metadata": {
        "colab": {
          "background_save": true
        },
        "id": "xOsKrrPEd1Hn",
        "outputId": "17952d59-4164-445f-c8df-44c306666400"
      },
      "outputs": [
        {
          "data": {
            "image/png": "[encoded data removed]",
            "text/plain": [
              "<Figure size 432x288 with 1 Axes>"
            ]
          },
          "metadata": {},
          "output_type": "display_data"
        }
      ],
      "source": [
        "cv_metrics = pd.DataFrame({\"Accuracy\": cv_acc,\n",
        "                            \"Precision\": cv_precision,\n",
        "                            \"Recall\": cv_recall,\n",
        "                            \"F1\": cv_f1},\n",
        "                          index=[0])\n",
        "\n",
        "cv_metrics.T.plot.bar(title='Cross-Validated Metrics', legend=False);"
      ],
      "id": "xOsKrrPEd1Hn"
    },
    {
      "cell_type": "code",
      "execution_count": null,
      "metadata": {
        "colab": {
          "background_save": true
        },
        "id": "feYNi-0Eej0A",
        "outputId": "490fad98-443d-4748-c466-65ef893972c6"
      },
      "outputs": [
        {
          "data": {
            "text/plain": [
              "LogisticRegression(C=0.08858667904100823, class_weight=None, dual=False,\n",
              "                   fit_intercept=True, intercept_scaling=1, l1_ratio=None,\n",
              "                   max_iter=100, multi_class='auto', n_jobs=None, penalty='l2',\n",
              "                   random_state=None, solver='liblinear', tol=0.0001, verbose=0,\n",
              "                   warm_start=False)"
            ]
          },
          "execution_count": null,
          "metadata": {},
          "output_type": "execute_result"
        }
      ],
      "source": [
        "clf.fit(X_train, y_train)"
      ],
      "id": "feYNi-0Eej0A"
    },
    {
      "cell_type": "code",
      "execution_count": null,
      "metadata": {
        "colab": {
          "background_save": true
        },
        "id": "G3B1AmSJ67Z6"
      },
      "outputs": [],
      "source": [],
      "id": "G3B1AmSJ67Z6"
    }
  ],
  "metadata": {
    "colab": {
      "collapsed_sections": [],
      "provenance": [],
      "include_colab_link": true
    },
    "kernelspec": {
      "display_name": "Python 3",
      "language": "python",
      "name": "python3"
    },
    "language_info": {
      "codemirror_mode": {
        "name": "ipython",
        "version": 3
      },
      "file_extension": ".py",
      "mimetype": "text/x-python",
      "name": "python",
      "nbconvert_exporter": "python",
      "pygments_lexer": "ipython3",
      "version": "3.9.5"
    }
  },
  "nbformat": 4,
  "nbformat_minor": 5
}